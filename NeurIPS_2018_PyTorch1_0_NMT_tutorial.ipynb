{
  "nbformat": 4,
  "nbformat_minor": 0,
  "metadata": {
    "colab": {
      "provenance": [],
      "authorship_tag": "ABX9TyOjMHn+qw91FjFh+nfgzX9B",
      "include_colab_link": true
    },
    "kernelspec": {
      "name": "python3",
      "display_name": "Python 3"
    },
    "language_info": {
      "name": "python"
    }
  },
  "cells": [
    {
      "cell_type": "markdown",
      "metadata": {
        "id": "view-in-github",
        "colab_type": "text"
      },
      "source": [
        "<a href=\"https://colab.research.google.com/github/tchtinku/TorchScript/blob/main/NeurIPS_2018_PyTorch1_0_NMT_tutorial.ipynb\" target=\"_parent\"><img src=\"https://colab.research.google.com/assets/colab-badge.svg\" alt=\"Open In Colab\"/></a>"
      ]
    },
    {
      "cell_type": "code",
      "execution_count": 3,
      "metadata": {
        "colab": {
          "base_uri": "https://localhost:8080/"
        },
        "id": "8XVwm8jR0ZUz",
        "outputId": "ba2209b0-94c5-4709-c048-ab9d9b8cb697"
      },
      "outputs": [
        {
          "output_type": "stream",
          "name": "stdout",
          "text": [
            "\u001b[31mERROR: torch_nightly-1.0.0.dev20181128-cp36-cp36m-linux_x86_64.whl is not a supported wheel on this platform.\u001b[0m\u001b[31m\n",
            "\u001b[0m"
          ]
        }
      ],
      "source": [
        "#This will install a preview version of PyTorch 1.0\n",
        "#This version is necessary for some features such as torch.jit.save to work\n",
        "#This may take a few minutes\n",
        "!pip install https://download.pytorch.org/whl/nightly/cu90/torch_nightly-1.0.0.dev20181128-cp36-cp36m-linux_x86_64.whl"
      ]
    },
    {
      "cell_type": "code",
      "source": [
        "import torch\n",
        "print(torch.__version__)"
      ],
      "metadata": {
        "colab": {
          "base_uri": "https://localhost:8080/"
        },
        "id": "NrpWMdMV085F",
        "outputId": "ebabed6b-5c94-4afd-da88-7ac4a1ff0563"
      },
      "execution_count": 2,
      "outputs": [
        {
          "output_type": "stream",
          "name": "stdout",
          "text": [
            "2.3.0+cu121\n"
          ]
        }
      ]
    },
    {
      "cell_type": "code",
      "source": [
        "#Fetch IWSLT 2014 German-English data\n",
        "import urllib.request\n",
        "url = \"https://download.pytorch.org/models/translate/iwslt14/data.tar.gz\"\n",
        "local_archive_name = \"data.tar.gz\"\n",
        "urllib.request.urlretrieve(url, local_archive_name)\n",
        "\n",
        "#Extract Files\n",
        "!tar xvzf data.tar.gz"
      ],
      "metadata": {
        "colab": {
          "base_uri": "https://localhost:8080/"
        },
        "id": "AH6kD5kj1W0F",
        "outputId": "d94e6c49-ead7-4355-8691-e64ad260374a"
      },
      "execution_count": 4,
      "outputs": [
        {
          "output_type": "stream",
          "name": "stdout",
          "text": [
            "data/\n",
            "data/valid.tok.bpe.en\n",
            "data/valid.tok.de\n",
            "data/train.tok.en\n",
            "data/train.tok.de\n",
            "data/valid.tok.bpe.de\n",
            "data/valid.tok.en\n",
            "data/test.tok.de\n",
            "data/train.tok.bpe.en\n",
            "data/test.tok.bpe.en\n",
            "data/train.tok.bpe.de\n",
            "data/test.tok.bpe.de\n",
            "data/test.tok.en\n"
          ]
        }
      ]
    },
    {
      "cell_type": "code",
      "source": [
        "#simple class to induce a vocabulary from a text file\n",
        "class Dictionary:\n",
        "\n",
        "  def __init__(self):\n",
        "    self.pad_index = 0\n",
        "    self.eos_index = 1\n",
        "    self.unk_index = 2\n",
        "    self.token_indices = {\n",
        "        \"<pad>\": self.pad_index,\n",
        "        \"<eos>\": self.eos_index,\n",
        "        \"<unk>\": self.unk_index,\n",
        "    }\n",
        "    self.tokens = [\"<pad>\", \"<eos>\", \"<unk>\"]\n",
        "\n",
        "    @staticmethod\n",
        "    def induce_from_file(filename, max_size=50000):\n",
        "      from collections import Counter\n",
        "      text = open(filename).read()\n",
        "      token_counts = Counter(text.split())\n",
        "\n",
        "      d = Dictionary()\n",
        "      for token, _ in token_counts.most_common(max_size):\n",
        "        d.token_indices[token] = len(d.token_indices)\n",
        "        d.tokens.append(token)\n",
        "\n",
        "      return d\n",
        "\n",
        "      def get_index(self, token):\n",
        "        return self.token_indices.get(token, self.unk_index)\n",
        "\n",
        "      def size(self):\n",
        "        return len(self.token_indices)\n",
        "\n",
        "      def get_token(self, index):\n",
        "        if index > len(self.tokens):\n",
        "          return \"<unk>\"\n",
        "        return self.tokens[index]"
      ],
      "metadata": {
        "id": "cAiVc_BL1hHs"
      },
      "execution_count": null,
      "outputs": []
    },
    {
      "cell_type": "code",
      "source": [
        "src_dict = Dictionary.induce_from_file(\"data/train.tok.de\")\n",
        "print(\"Loaded source vocabulary of size: \", src_dict.size())\n",
        "trg_dict = Dictionary.induce_from_file(\"data/train.tok.en\")\n",
        "print(\"Loaded target vocabulary of size: \", trg_dict.size())"
      ],
      "metadata": {
        "id": "ZDJrcupa4ebf"
      },
      "execution_count": null,
      "outputs": []
    },
    {
      "cell_type": "code",
      "source": [
        "from torch.nn.utils.rnn import (\n",
        "    pack_padded_sequence,\n",
        "    pad_packed_sequence,\n",
        ")\n",
        "\n",
        "class LstmEncoder(torch.nn.module):\n",
        "  def __init__(self, embed_dim, hidden_dim, vocab_size):\n",
        "    super().__init__()\n",
        "\n",
        "    self.embed_dim = embed_dim\n",
        "    self.hidden_dim = hidden_dim\n",
        "    self.vocab_size = vocab_size\n",
        "\n",
        "    self.embed_tokens = torch.nn.Embedding(vocab_size, embed_dim)\n",
        "    torch.nn.init.uniform_(self.embed_tokens.weight, -0.1, 0.1)\n",
        "\n",
        "    #hidden_dim is combined output dim from both directions\n",
        "    self.lstm = torch.nn.LSTM(\n",
        "        input_size = embed_dim,\n",
        "        hidden_size = hidden_dim // 2,\n",
        "        bidirectional = True\n",
        "    )\n",
        "\n",
        "  def forward(self, src_tokens, src_lengths):\n",
        "    embeddings = self.embed_tokens(src_tokens)\n",
        "\n",
        "    #Generate packed seq to deal with varying source seq length\n",
        "    #packed_input is of type PackedSequence, which consists of:\n",
        "    #element [0]: a tensor, the packed data, and\n",
        "    #element [1]: a list of integers, the batch size for each step\n",
        "    packed_input = pack_padded_sequence(embeddings, src_lengths)\n",
        "\n",
        "    packed_output, (_, _) = self.lstm(packed_input)\n",
        "\n",
        "    # [max_seqlen, batch_size, hidden_dim]\n",
        "    unpacked_output, _ = pad_packed_sequence(packed_output)\n",
        "\n",
        "    return unpacked_output"
      ],
      "metadata": {
        "id": "npX7sL8m5Crn"
      },
      "execution_count": null,
      "outputs": []
    }
  ]
}